{
 "cells": [
  {
   "cell_type": "code",
   "execution_count": null,
   "id": "02ab4beb-0fd6-4f73-bbd2-d4bc120188a8",
   "metadata": {},
   "outputs": [],
   "source": [
    "import os\n",
    "import transformer_lens\n",
    "from transformer_lens import HookedTransformer\n",
    "from transformer_lens import utils\n",
    "\n",
    "import torch\n",
    "import plotly\n",
    "import plotly.express as px\n",
    "import einops\n",
    "import numpy as np"
   ]
  },
  {
   "cell_type": "code",
   "execution_count": null,
   "id": "3858eaa4-f50d-4b76-a5dd-327b8352e7e6",
   "metadata": {},
   "outputs": [],
   "source": [
    "SEED = 42\n",
    "torch.set_grad_enabled(False)"
   ]
  },
  {
   "cell_type": "code",
   "execution_count": null,
   "id": "159bedbd-8a91-4ca6-89e1-d4d41a693c81",
   "metadata": {},
   "outputs": [],
   "source": [
    "\n",
    "model: HookedTransformer = HookedTransformer.from_pretrained(\"gpt-j\", device=\"cpu\")\n",
    "model: HookedTransformer = model.to(torch.bfloat16).to(\"cuda\") "
   ]
  }
 ],
 "metadata": {
  "kernelspec": {
   "display_name": "Python 3 (ipykernel)",
   "language": "python",
   "name": "python3"
  },
  "language_info": {
   "codemirror_mode": {
    "name": "ipython",
    "version": 3
   },
   "file_extension": ".py",
   "mimetype": "text/x-python",
   "name": "python",
   "nbconvert_exporter": "python",
   "pygments_lexer": "ipython3",
   "version": "3.12.3"
  }
 },
 "nbformat": 4,
 "nbformat_minor": 5
}
